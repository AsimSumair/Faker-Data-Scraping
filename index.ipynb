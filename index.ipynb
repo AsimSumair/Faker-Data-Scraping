{
 "cells": [
  {
   "cell_type": "markdown",
   "metadata": {},
   "source": [
    " ## Install necessary libraries\n",
    "\n",
    " Faker\n",
    " Pandas\n",
    " "
   ]
  },
  {
   "cell_type": "markdown",
   "metadata": {},
   "source": [
    "#### Importing Libraries"
   ]
  },
  {
   "cell_type": "code",
   "execution_count": 1,
   "metadata": {},
   "outputs": [],
   "source": [
    "import pandas as pd\n",
    "import random\n",
    "from faker import Faker\n",
    "import json"
   ]
  },
  {
   "cell_type": "markdown",
   "metadata": {},
   "source": [
    "## Initialize Faker to generate mock data"
   ]
  },
  {
   "cell_type": "code",
   "execution_count": 2,
   "metadata": {},
   "outputs": [],
   "source": [
    "\n",
    "fake = Faker()\n",
    "\n",
    "def generate_mock_data(num_entries):\n",
    "    \"\"\"Generate a list of mock escape room data with additional fields.\"\"\"\n",
    "    data = []\n",
    "    for _ in range(num_entries):\n",
    "        entry = {\n",
    "            'Escape Room Name': fake.company(),\n",
    "            'Address': fake.address(),\n",
    "            'Phone Number': fake.phone_number(),\n",
    "            'URL of Escape Room': fake.url(),\n",
    "            'Hours of Operation': f'{random.randint(9, 11)} AM - {random.randint(5, 11)} PM',\n",
    "            'Reviews': random.randint(0, 500),\n",
    "            'Links of Social Media': {\n",
    "                'Facebook': fake.url(),\n",
    "                'Twitter': fake.url(),\n",
    "                'Instagram': fake.url()\n",
    "            },\n",
    "            'Average Salary': f'${random.randint(20000, 60000):,}',\n",
    "            'Number of Employees': random.randint(5, 50),\n",
    "            'Opening Year': random.randint(2000, 2023),\n",
    "            'Website': fake.url(),\n",
    "            'Email': fake.email(),\n",
    "            'Google Reviews': random.randint(0, 1000),\n",
    "            'Price Level': random.choice(['Free', 'Inexpensive', 'Moderate', 'Expensive', 'Very Expensive']),\n",
    "            'Rating': round(random.uniform(1, 5), 1),\n",
    "            'Type of Business': random.choice(['Escape Room', 'Adventure Park', 'Puzzle Room']),\n",
    "            'Business Hours': f'{random.randint(9, 11)} AM - {random.randint(5, 11)} PM',\n",
    "            'Google Business URL': fake.url()\n",
    "        }\n",
    "        data.append(entry)\n",
    "    return data\n",
    "\n",
    "def save_to_csv(data, filename):\n",
    "    \"\"\"Save the list of mock data to a CSV file.\"\"\"\n",
    "    # Flatten the 'Links of Social Media' dictionary into separate columns\n",
    "    flattened_data = []\n",
    "    for entry in data:\n",
    "        entry_flat = entry.copy()\n",
    "        entry_flat.update(entry_flat.pop('Links of Social Media'))\n",
    "        flattened_data.append(entry_flat)\n",
    "    \n",
    "    df = pd.DataFrame(flattened_data)\n",
    "    df.to_csv(filename, index=False)\n",
    "    print(f'Data saved to {filename}')\n",
    "\n"
   ]
  },
  {
   "cell_type": "markdown",
   "metadata": {},
   "source": [
    "#### Extract Columns Escape Room Name, Address, Phone Number, Url of Escape Room, Hours of operation, Reviews, and Social Links store in extract_data.csv file"
   ]
  },
  {
   "cell_type": "code",
   "execution_count": 3,
   "metadata": {},
   "outputs": [],
   "source": [
    "import pandas as pd\n",
    "\n",
    "def extract_columns_to_csv(csv_filename, new_csv_filename):\n",
    "    try:\n",
    "        # Read the CSV file into a DataFrame\n",
    "        df = pd.read_csv(csv_filename)\n",
    "\n",
    "        # Select the specific columns you want to include in the new CSV\n",
    "        selected_columns = ['Escape Room Name', 'Address', 'Phone Number', 'URL of Escape Room', \n",
    "                             'Hours of Operation', 'Reviews', 'Facebook', 'Twitter', 'Instagram']\n",
    "        \n",
    "        # Check if all required columns are present\n",
    "        missing_columns = [col for col in selected_columns if col not in df.columns]\n",
    "        if missing_columns:\n",
    "            raise ValueError(f\"Missing columns: {', '.join(missing_columns)}\")\n",
    "        \n",
    "        # Filter the DataFrame to include only the selected columns\n",
    "        df_filtered = df[selected_columns]\n",
    "        \n",
    "        # Save the filtered DataFrame to a new CSV file\n",
    "        df_filtered.to_csv(new_csv_filename, index=False)\n",
    "        print(f'Data saved to {new_csv_filename}')\n",
    "    \n",
    "    except FileNotFoundError:\n",
    "        print(f\"Error: The file {csv_filename} was not found.\")\n",
    "    except ValueError as e:\n",
    "        print(f\"Error: {e}\")\n",
    "    except pd.errors.EmptyDataError:\n",
    "        print(\"Error: The CSV file is empty.\")\n",
    "    except pd.errors.ParserError:\n",
    "        print(\"Error: There was a problem parsing the CSV file.\")\n",
    "    except Exception as e:\n",
    "        print(f\"An unexpected error occurred: {e}\")\n",
    "\n"
   ]
  },
  {
   "cell_type": "markdown",
   "metadata": {},
   "source": [
    "### Implement basic data validation checks like:\n",
    "All required columns\n",
    "Missing values\n",
    "Perform additional validation if needed (e.g., URL format, phone number format)\n",
    "Ensure phone numbers are not empty\n"
   ]
  },
  {
   "cell_type": "code",
   "execution_count": 4,
   "metadata": {},
   "outputs": [],
   "source": [
    "\n",
    "def validate_data(df):\n",
    "    \"\"\"Perform basic data validation checks.\"\"\"\n",
    "    required_columns = ['Escape Room Name', 'Address', 'Phone Number', 'URL of Escape Room', \n",
    "                         'Hours of Operation', 'Reviews', 'Facebook', 'Twitter', 'Instagram']\n",
    "    \n",
    "    # Check if all required columns are present\n",
    "    missing_columns = [col for col in required_columns if col not in df.columns]\n",
    "    if missing_columns:\n",
    "        raise ValueError(f\"Missing columns: {', '.join(missing_columns)}\")\n",
    "    \n",
    "    # Check for missing values in the required columns\n",
    "    if df[required_columns].isnull().any().any():\n",
    "        raise ValueError(\"Data contains missing values in required columns.\")\n",
    "    \n",
    "    # Perform additional validation if needed (e.g., URL format, phone number format)\n",
    "    # Example: Ensure URLs start with 'http' or 'https'\n",
    "    invalid_urls = df[~df['URL of Escape Room'].str.startswith(('http://', 'https://'))]\n",
    "    if not invalid_urls.empty:\n",
    "        raise ValueError(\"Invalid URLs found in 'URL of Escape Room' column.\")\n",
    "    \n",
    "    # Example: Ensure phone numbers are not empty (simple check)\n",
    "    if df['Phone Number'].str.strip().eq('').any():\n",
    "        raise ValueError(\"Empty phone numbers found.\")\n",
    "    \n",
    "    return True\n",
    "\n"
   ]
  },
  {
   "cell_type": "markdown",
   "metadata": {},
   "source": [
    "#### Convert Extract Csv Data into Json file has at least 100 entries and also Handle exceptions and errors gracefully."
   ]
  },
  {
   "cell_type": "code",
   "execution_count": 5,
   "metadata": {},
   "outputs": [],
   "source": [
    "def extract_columns_to_json(csv_filename, json_filename):\n",
    "    \"\"\"Extract specified columns from CSV and save to JSON format.\"\"\"\n",
    "    try:\n",
    "        # Read the CSV file into a DataFrame\n",
    "        df = pd.read_csv('mock_escape_rooms.csv')\n",
    "        \n",
    "        # Validate data\n",
    "        validate_data(df)\n",
    "\n",
    "        # Select the specific columns to include in the JSON\n",
    "        selected_columns = ['Escape Room Name', 'Address', 'Phone Number', 'URL of Escape Room', \n",
    "                             'Hours of Operation', 'Reviews', 'Facebook', 'Twitter', 'Instagram']\n",
    "        df_filtered = df[selected_columns]\n",
    "        \n",
    "        # Convert the DataFrame to JSON format\n",
    "        json_data = df_filtered.to_json(orient='records', lines=True)\n",
    "        \n",
    "        # Save the JSON data to a file\n",
    "        with open(json_filename, 'w') as f:\n",
    "            f.write(json_data)\n",
    "        print(f'Data saved to {json_filename}')\n",
    "    \n",
    "    except FileNotFoundError:\n",
    "        print(f\"Error: The file {csv_filename} was not found.\")\n",
    "    except ValueError as e:\n",
    "        print(f\"Data validation error: {e}\")\n",
    "    except pd.errors.EmptyDataError:\n",
    "        print(\"Error: The CSV file is empty.\")\n",
    "    except pd.errors.ParserError:\n",
    "        print(\"Error: There was a problem parsing the CSV file.\")\n",
    "    except Exception as e:\n",
    "        print(f\"An unexpected error occurred: {e}\")\n",
    "\n",
    "\n"
   ]
  },
  {
   "cell_type": "markdown",
   "metadata": {},
   "source": [
    "#####  Creating the main function and Calling all the higher function inside the main function "
   ]
  },
  {
   "cell_type": "code",
   "execution_count": 6,
   "metadata": {},
   "outputs": [
    {
     "name": "stdout",
     "output_type": "stream",
     "text": [
      "Data saved to mock_escape_rooms.csv\n",
      "Data saved to extract_data.csv\n",
      "Data saved to escape_rooms.json\n"
     ]
    }
   ],
   "source": [
    "def main():\n",
    "  # Extracting 100 Escape and GMB entries from faker library\n",
    "    num_entries = 100  # Number of entries to generate\n",
    "    mock_data = generate_mock_data(num_entries)\n",
    "    save_to_csv(mock_data, 'mock_escape_rooms.csv')\n",
    "\n",
    "  # Etract Some columns from mock_escape_rooms\n",
    "    csv_filename = 'mock_escape_rooms.csv'\n",
    "    new_csv_filename = 'extract_data.csv'\n",
    "    extract_columns_to_csv(csv_filename, new_csv_filename)\n",
    "\n",
    "  # Convert Extract_data.csv file into escape_rooms.json\n",
    "    csv_filename = 'extract_data.csv'\n",
    "    json_filename = 'escape_rooms.json'\n",
    "    extract_columns_to_json(csv_filename, json_filename)\n",
    "\n",
    "if __name__ == '__main__':\n",
    "    main()\n"
   ]
  },
  {
   "cell_type": "markdown",
   "metadata": {},
   "source": [
    "##### Important Note: Originally, I was using GMB (Google My Business), but when I tried to retrieve the Google Place API, there was a billing error. Google indicated that I would need to purchase the API for $200 USD. Consequently, I was able to use the Faker Library to extract escape room data. I then created a Python script to scrape the data from the Faker Library, extracting columns such as room name, phone number, address, and so forth, and storing the results in a separate file called extract_data.csv. I then validated a few tests, such as finding missing values, empty numbers, etc.Once the validation process is over, I convert the data into a JSON format with a sequence."
   ]
  },
  {
   "cell_type": "markdown",
   "metadata": {},
   "source": []
  },
  {
   "cell_type": "markdown",
   "metadata": {},
   "source": [
    "##### I've added a new file, requirements.txt, that lists the installed dependencies and their versions for this project."
   ]
  },
  {
   "cell_type": "markdown",
   "metadata": {},
   "source": []
  }
 ],
 "metadata": {
  "kernelspec": {
   "display_name": "myenv",
   "language": "python",
   "name": "python3"
  },
  "language_info": {
   "codemirror_mode": {
    "name": "ipython",
    "version": 3
   },
   "file_extension": ".py",
   "mimetype": "text/x-python",
   "name": "python",
   "nbconvert_exporter": "python",
   "pygments_lexer": "ipython3",
   "version": "3.10.5"
  }
 },
 "nbformat": 4,
 "nbformat_minor": 2
}
